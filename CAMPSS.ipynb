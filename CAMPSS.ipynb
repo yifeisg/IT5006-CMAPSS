{
 "cells": [
  {
   "cell_type": "code",
   "execution_count": 2,
   "id": "2927b91e-125d-4de1-8746-022db2774b51",
   "metadata": {},
   "outputs": [],
   "source": [
    "import pandas as pd\n",
    "from scipy.signal import savgol_filter\n",
    "from sklearn.preprocessing import MinMaxScaler\n"
   ]
  },
  {
   "cell_type": "code",
   "execution_count": 8,
   "id": "4d1a1887-397b-4ebc-bdb1-1c4c02e16305",
   "metadata": {},
   "outputs": [],
   "source": [
    "#read files\n",
    "train_file=r'C:\\Users\\65962\\Desktop\\JUPYTER\\CMAPSSData\\train_FD001.txt'\n",
    "test_file=r\"C:\\Users\\65962\\Desktop\\JUPYTER\\CMAPSSData\\test_FD001.txt\"\n",
    "RUL_file=r\"C:\\Users\\65962\\Desktop\\JUPYTER\\CMAPSSData\\RUL_FD001.txt\"\n",
    "\n",
    "column_names = ['unit_number', 'time_in_cycles', 'operational_setting_1', \n",
    "                'operational_setting_2', 'operational_setting_3'] + \\\n",
    "                [f'sensor_{i}' for i in range(1, 22)]\n",
    "train_df = pd.read_csv(train_file, sep=' ', header=None, names=column_names)\n",
    "test_df = pd.read_csv(test_file, sep=' ', header=None, names=column_names)\n",
    "RUL_df = pd.read_csv(RUL_file, header=None, names=['RUL'])\n",
    "\n",
    "#remove sensors?\n",
    "irrelevant_sensors = ['sensor_3']\n",
    "train_df = train_df.drop(columns=irrelevant_sensors)\n",
    "test_df = test_df.drop(columns=irrelevant_sensors)"
   ]
  },
  {
   "cell_type": "code",
   "execution_count": 9,
   "id": "5420923c-b2e5-4c33-a390-2d74384f8847",
   "metadata": {},
   "outputs": [],
   "source": [
    "sensor_columns = [col for col in train_df.columns if 'sensor' in col]\n",
    "for sensor in sensor_columns:\n",
    "    train_df[sensor] = savgol_filter(train_df[sensor], window_length=11, polyorder=2)\n",
    "    test_df[sensor] = savgol_filter(test_df[sensor], window_length=11, polyorder=2)\n",
    "\n"
   ]
  },
  {
   "cell_type": "code",
   "execution_count": 11,
   "id": "492a9b93-d8b4-4b2e-83f7-2c26059b0af3",
   "metadata": {},
   "outputs": [
    {
     "name": "stdout",
     "output_type": "stream",
     "text": [
      "     unit_number  time_in_cycles  operational_setting_1  \\\n",
      "1 1      -0.0007         -0.0004                  100.0   \n",
      "  2       0.0019         -0.0003                  100.0   \n",
      "  3      -0.0043          0.0003                  100.0   \n",
      "  4       0.0007          0.0000                  100.0   \n",
      "  5      -0.0019         -0.0002                  100.0   \n",
      "\n",
      "     operational_setting_2  operational_setting_3  sensor_1  sensor_2  \\\n",
      "1 1                 518.67                 641.82  0.393393  0.288209   \n",
      "  2                 518.67                 642.15  0.362438  0.277299   \n",
      "  3                 518.67                 642.35  0.336909  0.266624   \n",
      "  4                 518.67                 642.35  0.316806  0.256183   \n",
      "  5                 518.67                 642.37  0.302131  0.245977   \n",
      "\n",
      "     sensor_4  sensor_5  sensor_6  ...  sensor_12  sensor_13     sensor_14  \\\n",
      "1 1  0.806971  0.757127  0.311686  ...   0.192367   0.341494  3.122502e-17   \n",
      "  2  0.806971  0.757059  0.289994  ...   0.180739   0.284232  3.122502e-17   \n",
      "  3  0.806971  0.756058  0.271223  ...   0.171388   0.239379  3.122502e-17   \n",
      "  4  0.806971  0.754124  0.255374  ...   0.164314   0.206935  2.775558e-17   \n",
      "  5  0.806971  0.751258  0.242447  ...   0.159516   0.186900  2.775558e-17   \n",
      "\n",
      "     sensor_15  sensor_16  sensor_17  sensor_18  sensor_19  sensor_20  \\\n",
      "1 1   0.243761     0.1250     0.2500   0.775569   0.835674        NaN   \n",
      "  2   0.232095     0.1875     0.3125   0.765321   0.781230        NaN   \n",
      "  3   0.224782     0.2500     0.3125   0.757089   0.740804        NaN   \n",
      "  4   0.221822     0.2500     0.3125   0.750872   0.714397        NaN   \n",
      "  5   0.223215     0.2500     0.3125   0.746670   0.702010        NaN   \n",
      "\n",
      "     sensor_21  \n",
      "1 1        NaN  \n",
      "  2        NaN  \n",
      "  3        NaN  \n",
      "  4        NaN  \n",
      "  5        NaN  \n",
      "\n",
      "[5 rows x 25 columns]\n",
      "     unit_number  time_in_cycles  operational_setting_1  \\\n",
      "1 1       0.0023          0.0003                  100.0   \n",
      "  2      -0.0027         -0.0003                  100.0   \n",
      "  3       0.0003          0.0001                  100.0   \n",
      "  4       0.0042          0.0000                  100.0   \n",
      "  5       0.0014          0.0000                  100.0   \n",
      "\n",
      "     operational_setting_2  operational_setting_3  sensor_1  sensor_2  \\\n",
      "1 1                 518.67                 643.02  0.310344  0.162109   \n",
      "  2                 518.67                 641.71  0.290035  0.192656   \n",
      "  3                 518.67                 642.46  0.272657  0.219350   \n",
      "  4                 518.67                 642.44  0.258211  0.242192   \n",
      "  5                 518.67                 642.51  0.246696  0.261183   \n",
      "\n",
      "     sensor_4  sensor_5  sensor_6  ...  sensor_12  sensor_13     sensor_14  \\\n",
      "1 1  0.806971  0.793262  0.198661  ...   0.160274   0.170152  3.122502e-17   \n",
      "  2  0.806971  0.765456  0.193987  ...   0.158851   0.199675  3.122502e-17   \n",
      "  3  0.806971  0.744478  0.191564  ...   0.157914   0.223419  3.122502e-17   \n",
      "  4  0.806971  0.730326  0.191394  ...   0.157464   0.241386  2.775558e-17   \n",
      "  5  0.806971  0.723003  0.193475  ...   0.157500   0.253574  2.775558e-17   \n",
      "\n",
      "     sensor_15  sensor_16  sensor_17  sensor_18  sensor_19  sensor_20  \\\n",
      "1 1   0.333430     0.1250     0.2500   0.734910   0.754610        NaN   \n",
      "  2   0.301915     0.1875     0.3125   0.739037   0.755162        NaN   \n",
      "  3   0.273883     0.2500     0.3125   0.743163   0.755163        NaN   \n",
      "  4   0.249333     0.2500     0.3125   0.747289   0.754611        NaN   \n",
      "  5   0.228265     0.2500     0.3125   0.751416   0.753506        NaN   \n",
      "\n",
      "     sensor_21  \n",
      "1 1        NaN  \n",
      "  2        NaN  \n",
      "  3        NaN  \n",
      "  4        NaN  \n",
      "  5        NaN  \n",
      "\n",
      "[5 rows x 25 columns]\n"
     ]
    },
    {
     "name": "stderr",
     "output_type": "stream",
     "text": [
      "C:\\Users\\65962\\AppData\\Local\\Programs\\Python\\Python312\\Lib\\site-packages\\sklearn\\utils\\_array_api.py:695: RuntimeWarning: All-NaN slice encountered\n",
      "  return xp.asarray(numpy.nanmin(X, axis=axis))\n",
      "C:\\Users\\65962\\AppData\\Local\\Programs\\Python\\Python312\\Lib\\site-packages\\sklearn\\utils\\_array_api.py:712: RuntimeWarning: All-NaN slice encountered\n",
      "  return xp.asarray(numpy.nanmax(X, axis=axis))\n"
     ]
    }
   ],
   "source": [
    "scaler = MinMaxScaler()\n",
    "train_df[sensor_columns] = scaler.fit_transform(train_df[sensor_columns])\n",
    "test_df[sensor_columns] = scaler.transform(test_df[sensor_columns])  # Use the same scaler\n",
    "test_rul_df = test_df.groupby('unit_number').last().reset_index()\n",
    "test_rul_df['RUL'] = RUL_df['RUL'] \n",
    "print(train_df.head())\n",
    "print(test_df.head())\n"
   ]
  },
  {
   "cell_type": "code",
   "execution_count": null,
   "id": "d8bf30ee-f272-41c3-91e8-13d90ad5771f",
   "metadata": {},
   "outputs": [],
   "source": []
  }
 ],
 "metadata": {
  "kernelspec": {
   "display_name": "Python 3 (ipykernel)",
   "language": "python",
   "name": "python3"
  },
  "language_info": {
   "codemirror_mode": {
    "name": "ipython",
    "version": 3
   },
   "file_extension": ".py",
   "mimetype": "text/x-python",
   "name": "python",
   "nbconvert_exporter": "python",
   "pygments_lexer": "ipython3",
   "version": "3.12.5"
  }
 },
 "nbformat": 4,
 "nbformat_minor": 5
}
